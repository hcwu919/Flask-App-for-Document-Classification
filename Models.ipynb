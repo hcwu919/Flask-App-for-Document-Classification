{
 "cells": [
  {
   "cell_type": "code",
   "execution_count": 1,
   "metadata": {
    "collapsed": true
   },
   "outputs": [],
   "source": [
    "import numpy as np\n",
    "import pandas as pd\n",
    "import sklearn "
   ]
  },
  {
   "cell_type": "code",
   "execution_count": 2,
   "metadata": {
    "collapsed": true
   },
   "outputs": [],
   "source": [
    "from sklearn.feature_extraction.text import TfidfVectorizer"
   ]
  },
  {
   "cell_type": "code",
   "execution_count": 3,
   "metadata": {
    "collapsed": true,
    "scrolled": true
   },
   "outputs": [],
   "source": [
    "heavy_water_data = pd.read_csv('./shuffled-full-set-hashed.csv', names=[\"label\", \"words\"], header=None)"
   ]
  },
  {
   "cell_type": "code",
   "execution_count": 4,
   "metadata": {},
   "outputs": [
    {
     "data": {
      "text/plain": [
       "124408"
      ]
     },
     "execution_count": 4,
     "metadata": {},
     "output_type": "execute_result"
    }
   ],
   "source": [
    "heavy_water_data.size"
   ]
  },
  {
   "cell_type": "code",
   "execution_count": 5,
   "metadata": {},
   "outputs": [
    {
     "data": {
      "text/html": [
       "<div>\n",
       "<style>\n",
       "    .dataframe thead tr:only-child th {\n",
       "        text-align: right;\n",
       "    }\n",
       "\n",
       "    .dataframe thead th {\n",
       "        text-align: left;\n",
       "    }\n",
       "\n",
       "    .dataframe tbody tr th {\n",
       "        vertical-align: top;\n",
       "    }\n",
       "</style>\n",
       "<table border=\"1\" class=\"dataframe\">\n",
       "  <thead>\n",
       "    <tr style=\"text-align: right;\">\n",
       "      <th></th>\n",
       "      <th>label</th>\n",
       "      <th>words</th>\n",
       "    </tr>\n",
       "  </thead>\n",
       "  <tbody>\n",
       "    <tr>\n",
       "      <th>0</th>\n",
       "      <td>DELETION OF INTEREST</td>\n",
       "      <td>e04a09c87692 d6b72e591b91 5d066f0246f1 ed41171...</td>\n",
       "    </tr>\n",
       "    <tr>\n",
       "      <th>1</th>\n",
       "      <td>RETURNED CHECK</td>\n",
       "      <td>a3b334c6eefd be95012ebf2b 41d67080e078 ff1c26e...</td>\n",
       "    </tr>\n",
       "    <tr>\n",
       "      <th>2</th>\n",
       "      <td>BILL</td>\n",
       "      <td>586242498a88 9ccf259ca087 54709b24b45f 6bf9c0c...</td>\n",
       "    </tr>\n",
       "    <tr>\n",
       "      <th>3</th>\n",
       "      <td>BILL</td>\n",
       "      <td>cd50e861f48b 6ca2dd348663 d38820625542 f077614...</td>\n",
       "    </tr>\n",
       "    <tr>\n",
       "      <th>4</th>\n",
       "      <td>BILL</td>\n",
       "      <td>9db5536263d8 1c303d15eb65 3f89b4673455 b73e657...</td>\n",
       "    </tr>\n",
       "  </tbody>\n",
       "</table>\n",
       "</div>"
      ],
      "text/plain": [
       "                  label                                              words\n",
       "0  DELETION OF INTEREST  e04a09c87692 d6b72e591b91 5d066f0246f1 ed41171...\n",
       "1        RETURNED CHECK  a3b334c6eefd be95012ebf2b 41d67080e078 ff1c26e...\n",
       "2                  BILL  586242498a88 9ccf259ca087 54709b24b45f 6bf9c0c...\n",
       "3                  BILL  cd50e861f48b 6ca2dd348663 d38820625542 f077614...\n",
       "4                  BILL  9db5536263d8 1c303d15eb65 3f89b4673455 b73e657..."
      ]
     },
     "execution_count": 5,
     "metadata": {},
     "output_type": "execute_result"
    }
   ],
   "source": [
    "heavy_water_data.head()"
   ]
  },
  {
   "cell_type": "code",
   "execution_count": 6,
   "metadata": {
    "collapsed": true
   },
   "outputs": [],
   "source": [
    "y = heavy_water_data['label']\n",
    "x = heavy_water_data['words']"
   ]
  },
  {
   "cell_type": "code",
   "execution_count": 7,
   "metadata": {
    "collapsed": true
   },
   "outputs": [],
   "source": [
    "from sklearn.model_selection import train_test_split"
   ]
  },
  {
   "cell_type": "code",
   "execution_count": 8,
   "metadata": {
    "collapsed": true
   },
   "outputs": [],
   "source": [
    "x = x.astype(str)\n",
    "y = y.astype(str)"
   ]
  },
  {
   "cell_type": "code",
   "execution_count": 9,
   "metadata": {
    "collapsed": true
   },
   "outputs": [],
   "source": [
    "# Split train and test data sets, 7:3\n",
    "x_train, x_test, y_train, y_test = train_test_split(x, y, test_size=0.3)"
   ]
  },
  {
   "cell_type": "code",
   "execution_count": 10,
   "metadata": {
    "collapsed": true
   },
   "outputs": [],
   "source": [
    "x_train_raw = x_train.copy()\n",
    "x_test_raw = x_test.copy()\n",
    "y_train_raw = y_train.copy()\n",
    "y_test_raw = y_test.copy()"
   ]
  },
  {
   "cell_type": "code",
   "execution_count": 11,
   "metadata": {
    "collapsed": true
   },
   "outputs": [],
   "source": [
    "# Vectorize the words\n",
    "vectorizer = TfidfVectorizer(sublinear_tf=True)\n",
    "# vectorizer = TfidfVectorizer(ngram_range=(1,2), min_df=200)\n",
    "x_train = vectorizer.fit_transform(x_train)\n",
    "x_test = vectorizer.transform(x_test)\n"
   ]
  },
  {
   "cell_type": "code",
   "execution_count": 12,
   "metadata": {
    "collapsed": true
   },
   "outputs": [],
   "source": [
    "# Target names\n",
    "target_names = y.unique().tolist()"
   ]
  },
  {
   "cell_type": "code",
   "execution_count": 13,
   "metadata": {
    "collapsed": true
   },
   "outputs": [],
   "source": [
    "from sklearn.metrics import accuracy_score\n",
    "from sklearn.metrics import classification_report\n",
    "from sklearn.metrics import confusion_matrix\n",
    "from sklearn.metrics import f1_score\n",
    "import pickle"
   ]
  },
  {
   "cell_type": "code",
   "execution_count": 14,
   "metadata": {
    "collapsed": true
   },
   "outputs": [],
   "source": [
    "# Benchmark of classifier\n",
    "def benchmark(clf, name):\n",
    "    print('Training: {0}'.format(name))\n",
    "    print(clf)\n",
    "    \n",
    "    model = clf.fit(x_train, y_train)\n",
    "    y_pred = clf.predict(x_test)\n",
    "    \n",
    "#     accuracy\n",
    "    acc = accuracy_score(y_test, y_pred)\n",
    "    print('Accuracy: %.08f'%acc)\n",
    "    \n",
    "    f1 = f1_score(y_test, y_pred, average='macro')\n",
    "    \n",
    "#     report  \n",
    "    print(classification_report(y_test, y_pred, target_names=target_names))\n",
    "    \n",
    "#     confusion matrix\n",
    "    print(confusion_matrix(y_test, y_pred))\n",
    "        \n",
    "    return model, acc, f1"
   ]
  },
  {
   "cell_type": "code",
   "execution_count": 15,
   "metadata": {
    "collapsed": true
   },
   "outputs": [],
   "source": [
    "# Add model to result\n",
    "def add_model(result, name, model, acc, f1):\n",
    "    if name not in result:\n",
    "        result[name] = {}\n",
    "    result[name]['model'] = model\n",
    "    result[name]['accuracy'] = acc\n",
    "    result[name]['f1'] = f1"
   ]
  },
  {
   "cell_type": "code",
   "execution_count": 16,
   "metadata": {
    "collapsed": true
   },
   "outputs": [],
   "source": [
    "from sklearn.linear_model import LogisticRegression\n",
    "from sklearn.linear_model import RidgeClassifier\n",
    "from sklearn.linear_model import SGDClassifier\n",
    "from sklearn.linear_model import Perceptron\n",
    "from sklearn.linear_model import PassiveAggressiveClassifier\n",
    "from sklearn.svm import LinearSVC\n",
    "from sklearn.naive_bayes import BernoulliNB, MultinomialNB\n",
    "from sklearn.neighbors import KNeighborsClassifier\n",
    "from sklearn.neighbors import NearestCentroid\n",
    "from sklearn.ensemble import RandomForestClassifier\n",
    "from sklearn.ensemble import BaggingClassifier\n",
    "from sklearn.tree import DecisionTreeClassifier\n",
    "from sklearn.pipeline import Pipeline"
   ]
  },
  {
   "cell_type": "code",
   "execution_count": 17,
   "metadata": {
    "collapsed": true
   },
   "outputs": [],
   "source": [
    "result = {}"
   ]
  },
  {
   "cell_type": "code",
   "execution_count": 20,
   "metadata": {
    "scrolled": false
   },
   "outputs": [
    {
     "name": "stdout",
     "output_type": "stream",
     "text": [
      "Training: Logistic Regression\n",
      "LogisticRegression(C=1.0, class_weight=None, dual=False, fit_intercept=True,\n",
      "          intercept_scaling=1, max_iter=100, multi_class='ovr', n_jobs=1,\n",
      "          penalty='l2', random_state=None, solver='liblinear', tol=0.0001,\n",
      "          verbose=0, warm_start=False)\n",
      "Accuracy: 0.85280249\n",
      "                         precision    recall  f1-score   support\n",
      "\n",
      "   DELETION OF INTEREST       0.83      0.25      0.38        60\n",
      "         RETURNED CHECK       0.88      0.91      0.89      5717\n",
      "                   BILL       0.00      0.00      0.00        82\n",
      "          POLICY CHANGE       0.80      0.90      0.85      2652\n",
      "    CANCELLATION NOTICE       0.80      0.85      0.82      2948\n",
      "            DECLARATION       0.94      0.80      0.86       257\n",
      "     CHANGE ENDORSEMENT       0.69      0.11      0.19       282\n",
      "     NON-RENEWAL NOTICE       0.91      0.86      0.89      1433\n",
      "                 BINDER       0.92      0.57      0.71       237\n",
      "   REINSTATEMENT NOTICE       0.90      0.13      0.22        71\n",
      "      EXPIRATION NOTICE       0.98      0.62      0.76       202\n",
      "INTENT TO CANCEL NOTICE       0.83      0.83      0.83      3173\n",
      "            APPLICATION       0.94      0.92      0.93      1337\n",
      "            BILL BINDER       0.99      0.86      0.92       211\n",
      "\n",
      "            avg / total       0.85      0.85      0.84     18662\n",
      "\n",
      "[[  15   11    0   24    0    0    0    0    0    0    0   10    0    0]\n",
      " [   1 5215    2  136  209    1    0    0    5    0    0  140    8    0]\n",
      " [   0   55    0   15    0    0    0    0    0    0    0   12    0    0]\n",
      " [   2   78    0 2390    8    3    7    4    0    0    0  159    1    0]\n",
      " [   0  228    0   19 2500    0    2   90    1    0    2   65   41    0]\n",
      " [   0    3    0    3    5  205    0    0    1    0    0   40    0    0]\n",
      " [   0   36    0  138   14    0   31   10    0    0    0   51    2    0]\n",
      " [   0    0    0    7  174    1    0 1236    0    0    0   15    0    0]\n",
      " [   0   55    0    0   18    0    0    1  136    1    1   18    7    0]\n",
      " [   0   20    0    1   37    0    0    1    0    9    0    3    0    0]\n",
      " [   0    2    0    0   62    0    0    1    1    0  125   10    1    0]\n",
      " [   0  209    0  232   48    7    2   12    3    0    0 2645   14    1]\n",
      " [   0   23    0    6   49    0    3    0    1    0    0   27 1227    1]\n",
      " [   0    9    0    9    2    0    0    0    0    0    0   10    0  181]]\n"
     ]
    }
   ],
   "source": [
    "# Logistic Regression\n",
    "name = 'Logistic Regression'\n",
    "model, acc, f1 = benchmark(LogisticRegression(), name)\n",
    "add_model(result, name, model, acc, f1)"
   ]
  },
  {
   "cell_type": "code",
   "execution_count": 19,
   "metadata": {
    "scrolled": false
   },
   "outputs": [
    {
     "name": "stdout",
     "output_type": "stream",
     "text": [
      "Training: Ridge Classifier\n",
      "RidgeClassifier(alpha=1.0, class_weight=None, copy_X=True, fit_intercept=True,\n",
      "        max_iter=None, normalize=False, random_state=None, solver='auto',\n",
      "        tol=0.001)\n",
      "Accuracy: 0.87337906\n",
      "                         precision    recall  f1-score   support\n",
      "\n",
      "   DELETION OF INTEREST       0.81      0.73      0.77        60\n",
      "         RETURNED CHECK       0.90      0.91      0.90      5717\n",
      "                   BILL       0.29      0.07      0.12        82\n",
      "          POLICY CHANGE       0.82      0.91      0.87      2652\n",
      "    CANCELLATION NOTICE       0.84      0.88      0.86      2948\n",
      "            DECLARATION       0.92      0.81      0.86       257\n",
      "     CHANGE ENDORSEMENT       0.60      0.15      0.23       282\n",
      "     NON-RENEWAL NOTICE       0.93      0.89      0.91      1433\n",
      "                 BINDER       0.88      0.71      0.79       237\n",
      "   REINSTATEMENT NOTICE       0.61      0.27      0.37        71\n",
      "      EXPIRATION NOTICE       0.95      0.85      0.90       202\n",
      "INTENT TO CANCEL NOTICE       0.85      0.86      0.85      3173\n",
      "            APPLICATION       0.94      0.94      0.94      1337\n",
      "            BILL BINDER       0.97      0.91      0.94       211\n",
      "\n",
      "            avg / total       0.87      0.87      0.87     18662\n",
      "\n",
      "[[  44    1    0    9    0    0    0    0    0    0    0    6    0    0]\n",
      " [   4 5188   10  115  225    1    8    1    7    6    0  143    9    0]\n",
      " [   0   56    6    8    0    0    0    0    0    0    0   12    0    0]\n",
      " [   2   64    2 2417    7    5    9    3    0    0    0  142    1    0]\n",
      " [   2  185    0   14 2584    0    1   66    1    3    3   43   45    1]\n",
      " [   0    2    1    2    4  209    0    0    1    0    0   38    0    0]\n",
      " [   2   32    0  134   13    0   41    9    1    1    0   47    2    0]\n",
      " [   0    0    0    4  136    1    1 1281    0    0    0   10    0    0]\n",
      " [   0   50    0    0    6    0    0    1  169    1    1    9    0    0]\n",
      " [   0   16    0    2   29    0    0    1    0   19    1    1    2    0]\n",
      " [   0    1    0    0   16    0    1    2    4    0  172    5    1    0]\n",
      " [   0  147    2  220   26   11    4   14    8    0    5 2715   17    4]\n",
      " [   0   12    0    3   29    0    3    3    1    1    0   21 1263    1]\n",
      " [   0    8    0    4    1    0    0    0    0    0    0    7    0  191]]\n"
     ]
    }
   ],
   "source": [
    "# Ridge Regression\n",
    "name = 'Ridge Classifier'\n",
    "model, acc, f1 = benchmark(RidgeClassifier(tol=1e-3), name)\n",
    "add_model(result, name, model, acc, f1)"
   ]
  },
  {
   "cell_type": "code",
   "execution_count": 21,
   "metadata": {
    "scrolled": false
   },
   "outputs": [
    {
     "name": "stdout",
     "output_type": "stream",
     "text": [
      "Training: Perceptron\n",
      "Perceptron(alpha=0.0001, class_weight=None, eta0=1.0, fit_intercept=True,\n",
      "      max_iter=None, n_iter=100, n_jobs=1, penalty=None, random_state=0,\n",
      "      shuffle=True, tol=None, verbose=0, warm_start=False)\n"
     ]
    },
    {
     "name": "stderr",
     "output_type": "stream",
     "text": [
      "/anaconda3/lib/python3.6/site-packages/sklearn/linear_model/stochastic_gradient.py:117: DeprecationWarning: n_iter parameter is deprecated in 0.19 and will be removed in 0.21. Use max_iter and tol instead.\n",
      "  DeprecationWarning)\n"
     ]
    },
    {
     "name": "stdout",
     "output_type": "stream",
     "text": [
      "Accuracy: 0.86041153\n",
      "                         precision    recall  f1-score   support\n",
      "\n",
      "   DELETION OF INTEREST       0.63      0.77      0.69        60\n",
      "         RETURNED CHECK       0.87      0.91      0.89      5717\n",
      "                   BILL       0.19      0.06      0.09        82\n",
      "          POLICY CHANGE       0.88      0.85      0.87      2652\n",
      "    CANCELLATION NOTICE       0.86      0.82      0.84      2948\n",
      "            DECLARATION       0.88      0.83      0.85       257\n",
      "     CHANGE ENDORSEMENT       0.36      0.28      0.31       282\n",
      "     NON-RENEWAL NOTICE       0.91      0.90      0.91      1433\n",
      "                 BINDER       0.88      0.70      0.78       237\n",
      "   REINSTATEMENT NOTICE       0.48      0.46      0.47        71\n",
      "      EXPIRATION NOTICE       0.93      0.88      0.90       202\n",
      "INTENT TO CANCEL NOTICE       0.82      0.85      0.83      3173\n",
      "            APPLICATION       0.92      0.94      0.93      1337\n",
      "            BILL BINDER       0.83      0.92      0.87       211\n",
      "\n",
      "            avg / total       0.86      0.86      0.86     18662\n",
      "\n",
      "[[  46    1    0    5    0    0    0    0    0    0    0    7    0    1]\n",
      " [   6 5223   14   75  169    1   34    1    6    7    1  158   14    8]\n",
      " [   0   55    5    6    0    0    1    0    0    0    0   15    0    0]\n",
      " [  11  101    3 2267    5    3   51    5    0    5    1  191    3    6]\n",
      " [   2  312    0    5 2432    0    6   75    1   11    5   46   51    2]\n",
      " [   0    4    0    2    4  213    0    1    1    0    0   32    0    0]\n",
      " [   5   45    0   62   14    2   79    9    1    2    0   57    5    1]\n",
      " [   0    1    0    2  119    2    8 1286    0    0    0   12    1    2]\n",
      " [   0   50    0    0    3    0    1    1  166    1    1    9    5    0]\n",
      " [   0   17    0    1   15    0    0    1    0   33    1    3    0    0]\n",
      " [   0    1    0    0    4    0    3    1    3    1  178    9    2    0]\n",
      " [   3  167    5  157   26   21   29   19   10    8    5 2682   23   18]\n",
      " [   0   12    0    2   26    0    7    7    1    1    0   27 1253    1]\n",
      " [   0    8    0    4    1    0    1    0    0    0    0    3    0  194]]\n"
     ]
    }
   ],
   "source": [
    "# Perceptron\n",
    "name = 'Perceptron'\n",
    "model, acc, f1 = benchmark(Perceptron(n_iter=100), name)\n",
    "# add_model(result, name, model, acc, f1)"
   ]
  },
  {
   "cell_type": "code",
   "execution_count": 22,
   "metadata": {
    "scrolled": false
   },
   "outputs": [
    {
     "name": "stdout",
     "output_type": "stream",
     "text": [
      "Training: Passive-Aggressive\n",
      "PassiveAggressiveClassifier(C=1.0, average=False, class_weight=None,\n",
      "              fit_intercept=True, loss='hinge', max_iter=None, n_iter=100,\n",
      "              n_jobs=1, random_state=None, shuffle=True, tol=None,\n",
      "              verbose=0, warm_start=False)\n"
     ]
    },
    {
     "name": "stderr",
     "output_type": "stream",
     "text": [
      "/anaconda3/lib/python3.6/site-packages/sklearn/linear_model/stochastic_gradient.py:117: DeprecationWarning: n_iter parameter is deprecated in 0.19 and will be removed in 0.21. Use max_iter and tol instead.\n",
      "  DeprecationWarning)\n"
     ]
    },
    {
     "name": "stdout",
     "output_type": "stream",
     "text": [
      "Accuracy: 0.86952095\n",
      "                         precision    recall  f1-score   support\n",
      "\n",
      "   DELETION OF INTEREST       0.78      0.77      0.77        60\n",
      "         RETURNED CHECK       0.89      0.90      0.90      5717\n",
      "                   BILL       0.31      0.12      0.18        82\n",
      "          POLICY CHANGE       0.83      0.91      0.87      2652\n",
      "    CANCELLATION NOTICE       0.85      0.86      0.86      2948\n",
      "            DECLARATION       0.90      0.83      0.87       257\n",
      "     CHANGE ENDORSEMENT       0.40      0.31      0.35       282\n",
      "     NON-RENEWAL NOTICE       0.92      0.90      0.91      1433\n",
      "                 BINDER       0.83      0.76      0.79       237\n",
      "   REINSTATEMENT NOTICE       0.65      0.46      0.54        71\n",
      "      EXPIRATION NOTICE       0.93      0.90      0.91       202\n",
      "INTENT TO CANCEL NOTICE       0.85      0.84      0.84      3173\n",
      "            APPLICATION       0.94      0.94      0.94      1337\n",
      "            BILL BINDER       0.96      0.91      0.93       211\n",
      "\n",
      "            avg / total       0.87      0.87      0.87     18662\n",
      "\n",
      "[[  46    1    0   10    0    0    0    0    0    0    0    3    0    0]\n",
      " [   6 5149   17  111  208    1   40    0   15    5    0  157    8    0]\n",
      " [   0   49   10   10    0    0    1    0    0    0    0   12    0    0]\n",
      " [   2   63    2 2407    5    4   36    3    0    0    1  127    1    1]\n",
      " [   2  236    0   11 2523    0    5   70    3   10    4   39   44    1]\n",
      " [   0    1    0    4    3  214    1    1    1    0    0   32    0    0]\n",
      " [   2   30    0   99   13    0   87    9    2    1    0   37    2    0]\n",
      " [   0    0    0    3  115    1    8 1296    0    0    0   10    0    0]\n",
      " [   0   40    0    1    3    0    1    1  180    1    1    7    2    0]\n",
      " [   0   16    0    1   16    0    0    1    0   33    1    2    1    0]\n",
      " [   0    0    0    1    4    0    2    1    4    0  181    8    1    0]\n",
      " [   1  154    3  234   28   17   28   15   11    0    6 2655   17    4]\n",
      " [   0    9    0    3   32    0    8    5    2    1    0   21 1255    1]\n",
      " [   0    8    0    6    1    0    2    0    0    0    0    3    0  191]]\n"
     ]
    }
   ],
   "source": [
    "# Passive Aggressive \n",
    "name = \"Passive-Aggressive\"\n",
    "model, acc, f1 = benchmark(PassiveAggressiveClassifier(n_iter=100), name)\n",
    "# add_model(result, name, model, acc, f1)"
   ]
  },
  {
   "cell_type": "code",
   "execution_count": 23,
   "metadata": {},
   "outputs": [
    {
     "name": "stdout",
     "output_type": "stream",
     "text": [
      "Training: Random forest\n",
      "RandomForestClassifier(bootstrap=True, class_weight=None, criterion='gini',\n",
      "            max_depth=None, max_features='auto', max_leaf_nodes=None,\n",
      "            min_impurity_decrease=0.0, min_impurity_split=None,\n",
      "            min_samples_leaf=1, min_samples_split=2,\n",
      "            min_weight_fraction_leaf=0.0, n_estimators=5, n_jobs=1,\n",
      "            oob_score=False, random_state=None, verbose=0,\n",
      "            warm_start=False)\n",
      "Accuracy: 0.78153467\n",
      "                         precision    recall  f1-score   support\n",
      "\n",
      "   DELETION OF INTEREST       0.66      0.38      0.48        60\n",
      "         RETURNED CHECK       0.80      0.89      0.84      5717\n",
      "                   BILL       0.26      0.10      0.14        82\n",
      "          POLICY CHANGE       0.76      0.82      0.79      2652\n",
      "    CANCELLATION NOTICE       0.71      0.76      0.74      2948\n",
      "            DECLARATION       0.79      0.79      0.79       257\n",
      "     CHANGE ENDORSEMENT       0.26      0.09      0.13       282\n",
      "     NON-RENEWAL NOTICE       0.86      0.82      0.84      1433\n",
      "                 BINDER       0.75      0.57      0.65       237\n",
      "   REINSTATEMENT NOTICE       0.75      0.25      0.38        71\n",
      "      EXPIRATION NOTICE       0.84      0.44      0.58       202\n",
      "INTENT TO CANCEL NOTICE       0.77      0.71      0.74      3173\n",
      "            APPLICATION       0.87      0.76      0.81      1337\n",
      "            BILL BINDER       0.99      0.68      0.81       211\n",
      "\n",
      "            avg / total       0.78      0.78      0.78     18662\n",
      "\n",
      "[[  23    4    0   26    0    0    0    0    0    0    0    7    0    0]\n",
      " [   6 5094   14  132  233    1   18    2   22    2    0  173   20    0]\n",
      " [   0   49    8   12    0    0    1    0    0    0    0   12    0    0]\n",
      " [   2  226    2 2180   21    3   21    2    1    0    1  191    2    0]\n",
      " [   0  362    0   38 2242    1    5  122    6    2   10   90   69    1]\n",
      " [   0    7    0    4    8  204    0    1    1    0    0   30    2    0]\n",
      " [   1   60    1  123   18    0   25    9    1    1    0   41    2    0]\n",
      " [   0   12    0   13  208    1    4 1169    0    1    0   17    8    0]\n",
      " [   0   53    0    2   24    0    1    2  134    0    1   17    3    0]\n",
      " [   0   25    0    2   16    0    0    1    0   18    1    3    5    0]\n",
      " [   0   12    0    4   69    0    2    7    4    0   89    5   10    0]\n",
      " [   3  365    6  299  129   49   17   23    5    0    3 2244   29    1]\n",
      " [   0   61    0   19  172    0    3   20    4    0    1   46 1011    0]\n",
      " [   0   24    0   11    7    0    0    0    0    0    0   21    4  144]]\n"
     ]
    }
   ],
   "source": [
    "# Random Forest\n",
    "name = \"Random forest\"\n",
    "model, acc, f1 = benchmark(RandomForestClassifier(n_estimators=5), name)\n",
    "# add_model(result, name, model, acc, f1)"
   ]
  },
  {
   "cell_type": "code",
   "execution_count": 24,
   "metadata": {
    "scrolled": false
   },
   "outputs": [
    {
     "name": "stdout",
     "output_type": "stream",
     "text": [
      "Training: SGD elastic net\n",
      "SGDClassifier(alpha=0.0001, average=False, class_weight=None, epsilon=0.1,\n",
      "       eta0=0.0, fit_intercept=True, l1_ratio=0.15,\n",
      "       learning_rate='optimal', loss='hinge', max_iter=None, n_iter=3,\n",
      "       n_jobs=1, penalty='elasticnet', power_t=0.5, random_state=None,\n",
      "       shuffle=True, tol=None, verbose=0, warm_start=False)\n"
     ]
    },
    {
     "name": "stderr",
     "output_type": "stream",
     "text": [
      "/anaconda3/lib/python3.6/site-packages/sklearn/linear_model/stochastic_gradient.py:117: DeprecationWarning: n_iter parameter is deprecated in 0.19 and will be removed in 0.21. Use max_iter and tol instead.\n",
      "  DeprecationWarning)\n"
     ]
    },
    {
     "name": "stdout",
     "output_type": "stream",
     "text": [
      "Accuracy: 0.85869682\n",
      "                         precision    recall  f1-score   support\n",
      "\n",
      "   DELETION OF INTEREST       0.84      0.36      0.50        72\n",
      "         RETURNED CHECK       0.88      0.92      0.90      5729\n",
      "                   BILL       0.00      0.00      0.00        88\n",
      "          POLICY CHANGE       0.82      0.88      0.85      2707\n",
      "    CANCELLATION NOTICE       0.84      0.84      0.84      2885\n",
      "            DECLARATION       0.93      0.82      0.87       260\n",
      "     CHANGE ENDORSEMENT       0.67      0.02      0.04       282\n",
      "     NON-RENEWAL NOTICE       0.91      0.87      0.89      1417\n",
      "                 BINDER       0.89      0.65      0.75       216\n",
      "   REINSTATEMENT NOTICE       1.00      0.21      0.34        78\n",
      "      EXPIRATION NOTICE       0.88      0.84      0.86       180\n",
      "INTENT TO CANCEL NOTICE       0.81      0.85      0.83      3191\n",
      "            APPLICATION       0.93      0.94      0.94      1318\n",
      "            BILL BINDER       0.95      0.85      0.90       239\n",
      "\n",
      "            avg / total       0.85      0.86      0.85     18662\n",
      "\n",
      "[[  26    8    0   26    0    0    0    0    0    0    0   11    0    1]\n",
      " [   2 5252    0  101  188    0    0    0    3    0    1  171    8    3]\n",
      " [   0   59    0   15    1    0    0    0    0    0    0   13    0    0]\n",
      " [   2   80    0 2389   11    1    2    2    0    0    0  220    0    0]\n",
      " [   0  238    0   17 2432    0    1   82    5    0    9   56   44    1]\n",
      " [   0    4    0    2    4  214    0    1    1    0    0   34    0    0]\n",
      " [   1   46    1  145    8    0    6   17    0    0    1   53    2    2]\n",
      " [   0    3    0    9  155    1    0 1229    0    0    0   19    0    1]\n",
      " [   0   62    0    0    2    0    0    0  141    0    1    5    5    0]\n",
      " [   0   19    0    2   36    0    0    1    0   16    1    1    2    0]\n",
      " [   0    3    0    0   16    0    0    3    0    0  152    6    0    0]\n",
      " [   0  174    2  189   33   14    0    8    8    0    3 2726   31    3]\n",
      " [   0   19    0    2   23    0    0    6    0    0    4   25 1239    0]\n",
      " [   0   11    0    5    1    0    0    0    0    0    1   18    0  203]]\n"
     ]
    }
   ],
   "source": [
    "# SGD Elastic Net\n",
    "name = \"SGD elastic net\"\n",
    "model, acc, f1 = benchmark(SGDClassifier(alpha=.0001, n_iter=3, penalty=\"elasticnet\"), name)\n",
    "# add_model(result, name, model, acc, f1)"
   ]
  },
  {
   "cell_type": "code",
   "execution_count": 18,
   "metadata": {
    "scrolled": false
   },
   "outputs": [
    {
     "name": "stdout",
     "output_type": "stream",
     "text": [
      "Training: SVM classifier\n",
      "LinearSVC(C=1.0, class_weight=None, dual=True, fit_intercept=True,\n",
      "     intercept_scaling=1, loss='squared_hinge', max_iter=1000,\n",
      "     multi_class='ovr', penalty='l2', random_state=None, tol=0.001,\n",
      "     verbose=0)\n",
      "Accuracy: 0.87568321\n",
      "                         precision    recall  f1-score   support\n",
      "\n",
      "   DELETION OF INTEREST       0.78      0.75      0.76        60\n",
      "         RETURNED CHECK       0.90      0.90      0.90      5717\n",
      "                   BILL       0.29      0.10      0.15        82\n",
      "          POLICY CHANGE       0.83      0.91      0.87      2652\n",
      "    CANCELLATION NOTICE       0.84      0.88      0.86      2948\n",
      "            DECLARATION       0.91      0.84      0.88       257\n",
      "     CHANGE ENDORSEMENT       0.53      0.23      0.32       282\n",
      "     NON-RENEWAL NOTICE       0.93      0.90      0.92      1433\n",
      "                 BINDER       0.86      0.73      0.79       237\n",
      "   REINSTATEMENT NOTICE       0.68      0.37      0.48        71\n",
      "      EXPIRATION NOTICE       0.95      0.86      0.90       202\n",
      "INTENT TO CANCEL NOTICE       0.86      0.85      0.85      3173\n",
      "            APPLICATION       0.94      0.95      0.95      1337\n",
      "            BILL BINDER       0.97      0.91      0.94       211\n",
      "\n",
      "            avg / total       0.87      0.88      0.87     18662\n",
      "\n",
      "[[  45    0    0   10    0    0    0    0    0    0    0    5    0    0]\n",
      " [   7 5164   16  106  241    1   21    0    8    6    0  138    9    0]\n",
      " [   0   54    8    8    0    0    0    0    0    0    0   12    0    0]\n",
      " [   2   58    2 2424    7    4   16    3    0    0    0  135    1    0]\n",
      " [   1  179    0   11 2600    0    3   58    2    3    3   41   46    1]\n",
      " [   0    1    0    2    3  217    0    1    1    0    0   32    0    0]\n",
      " [   2   32    0  117   14    0   66    9    2    1    0   37    2    0]\n",
      " [   0    0    0    5  120    1    5 1294    0    0    0    8    0    0]\n",
      " [   0   46    0    1    5    0    0    1  173    1    1    8    1    0]\n",
      " [   0   14    0    2   25    0    0    1    0   26    1    1    1    0]\n",
      " [   0    1    0    0   13    0    2    2    4    0  173    6    1    0]\n",
      " [   1  156    2  219   31   16    7   15    9    0    5 2695   13    4]\n",
      " [   0   10    0    3   26    0    5    3    1    1    0   21 1266    1]\n",
      " [   0    8    0    6    1    0    0    0    0    0    0    5    0  191]]\n"
     ]
    }
   ],
   "source": [
    "# SVM classifier\n",
    "name = \"SVM classifier\"\n",
    "model, acc, f1 = benchmark(LinearSVC(tol=1e-3), name)\n",
    "add_model(result, name, model, acc, f1)"
   ]
  },
  {
   "cell_type": "code",
   "execution_count": 28,
   "metadata": {},
   "outputs": [
    {
     "name": "stdout",
     "output_type": "stream",
     "text": [
      "Training: Naive Bayes\n",
      "MultinomialNB(alpha=1.0, class_prior=None, fit_prior=True)\n",
      "Accuracy: 0.76010074\n",
      "                         precision    recall  f1-score   support\n",
      "\n",
      "   DELETION OF INTEREST       0.00      0.00      0.00        72\n",
      "         RETURNED CHECK       0.84      0.85      0.85      5729\n",
      "                   BILL       0.00      0.00      0.00        88\n",
      "          POLICY CHANGE       0.68      0.89      0.77      2707\n",
      "    CANCELLATION NOTICE       0.65      0.82      0.72      2885\n",
      "            DECLARATION       0.60      0.81      0.69       260\n",
      "     CHANGE ENDORSEMENT       0.33      0.02      0.04       282\n",
      "     NON-RENEWAL NOTICE       0.90      0.75      0.82      1417\n",
      "                 BINDER       0.53      0.28      0.37       216\n",
      "   REINSTATEMENT NOTICE       0.00      0.00      0.00        78\n",
      "      EXPIRATION NOTICE       1.00      0.03      0.06       180\n",
      "INTENT TO CANCEL NOTICE       0.74      0.61      0.67      3191\n",
      "            APPLICATION       0.90      0.80      0.84      1318\n",
      "            BILL BINDER       0.97      0.77      0.86       239\n",
      "\n",
      "            avg / total       0.76      0.76      0.75     18662\n",
      "\n",
      "[[   0    5    0   41    0    0    0    0    0    0    0   25    0    1]\n",
      " [   0 4867    0  271  287    0    7    4   19    0    0  268    4    2]\n",
      " [   0   24    0   41    1    0    0    0    0    0    0   22    0    0]\n",
      " [   0   78    0 2419   43    2    3    1    0    0    0  161    0    0]\n",
      " [   0  249    0   40 2360    0    0   77    8    0    0   72   79    0]\n",
      " [   0    6    0    8    8  211    0    0    0    0    0   26    1    0]\n",
      " [   0   37    0  150   26    3    6   13    1    0    0   42    2    2]\n",
      " [   0    5    0    4  334    1    0 1061    0    0    0   10    2    0]\n",
      " [   0   78    0    1   72    0    0    0   61    0    0    4    0    0]\n",
      " [   0   39    0    2   33    0    0    1    3    0    0    0    0    0]\n",
      " [   0    5    0    0  156    0    0    0    1    0    6    4    8    0]\n",
      " [   0  311    0  573  165  132    2   14   10    0    0 1962   22    0]\n",
      " [   0   43    0    5  160    0    0   12   13    0    0   36 1049    0]\n",
      " [   0   27    0   15    1    0    0    1    0    0    0   12    0  183]]\n"
     ]
    },
    {
     "name": "stderr",
     "output_type": "stream",
     "text": [
      "/anaconda3/lib/python3.6/site-packages/sklearn/metrics/classification.py:1135: UndefinedMetricWarning: F-score is ill-defined and being set to 0.0 in labels with no predicted samples.\n",
      "  'precision', 'predicted', average, warn_for)\n",
      "/anaconda3/lib/python3.6/site-packages/sklearn/metrics/classification.py:1135: UndefinedMetricWarning: Precision and F-score are ill-defined and being set to 0.0 in labels with no predicted samples.\n",
      "  'precision', 'predicted', average, warn_for)\n"
     ]
    }
   ],
   "source": [
    "# Naive Bayes\n",
    "name = \"Naive Bayes\"\n",
    "model, acc, f1 = benchmark(MultinomialNB(), name)\n",
    "# add_model(result, name, model, acc, f1)"
   ]
  },
  {
   "cell_type": "code",
   "execution_count": 30,
   "metadata": {
    "scrolled": false
   },
   "outputs": [
    {
     "name": "stdout",
     "output_type": "stream",
     "text": [
      "Training: Bernoulli Naive Bayes\n",
      "BernoulliNB(alpha=1.0, binarize=0.0, class_prior=None, fit_prior=True)\n",
      "Accuracy: 0.68781481\n",
      "                         precision    recall  f1-score   support\n",
      "\n",
      "   DELETION OF INTEREST       0.11      0.47      0.18        72\n",
      "         RETURNED CHECK       0.94      0.74      0.83      5729\n",
      "                   BILL       0.10      0.53      0.17        88\n",
      "          POLICY CHANGE       0.86      0.66      0.75      2707\n",
      "    CANCELLATION NOTICE       0.72      0.61      0.66      2885\n",
      "            DECLARATION       0.61      0.82      0.70       260\n",
      "     CHANGE ENDORSEMENT       0.15      0.48      0.23       282\n",
      "     NON-RENEWAL NOTICE       0.88      0.75      0.81      1417\n",
      "                 BINDER       0.42      0.69      0.52       216\n",
      "   REINSTATEMENT NOTICE       0.11      0.56      0.19        78\n",
      "      EXPIRATION NOTICE       0.54      0.79      0.64       180\n",
      "INTENT TO CANCEL NOTICE       0.77      0.58      0.66      3191\n",
      "            APPLICATION       0.46      0.89      0.61      1318\n",
      "            BILL BINDER       0.42      0.90      0.57       239\n",
      "\n",
      "            avg / total       0.78      0.69      0.72     18662\n",
      "\n",
      "[[  34    0    2    4    0    0    9    0    1    0    0   15    0    7]\n",
      " [  75 4245  210   21  385    0  163    2  104   44    1  192  230   57]\n",
      " [   3    9   47    1    0    0    3    0    0    0    0   12    7    6]\n",
      " [  96   14   93 1798    7    2  302    1    0   25    0  170   77  122]\n",
      " [   2  147    0    1 1750    0   60  103   64  115   75   69  483   16]\n",
      " [   2    0    0    3   13  212    6    1    1    0    0   19    1    2]\n",
      " [   3   15    6   49   11    3  135   13    1    3    0   18   12   13]\n",
      " [   0    0    0    0  133    1   58 1058    0   60    4    7   92    4]\n",
      " [   3   18    0    0    4    0    3    0  149    3    4    3   29    0]\n",
      " [   1    4    0    0   13    0    0    1    4   44    4    2    4    1]\n",
      " [   0    0    0    0   19    0    0    1    1    2  142    3   12    0]\n",
      " [  76   60   97  211   82  132  129   15   22   52   15 1835  401   64]\n",
      " [   2   10    0    0   16    0    5   10   10   39   18   30 1173    5]\n",
      " [   2    4    1    0    0    0    5    0    0    0    0    8    5  214]]\n"
     ]
    }
   ],
   "source": [
    "# Bernouli\n",
    "name = \"Bernoulli Naive Bayes\"\n",
    "model, acc, f1 = benchmark(BernoulliNB(), name)\n",
    "# add_model(result, name, model, acc, f1)"
   ]
  },
  {
   "cell_type": "code",
   "execution_count": 31,
   "metadata": {
    "scrolled": false
   },
   "outputs": [
    {
     "name": "stdout",
     "output_type": "stream",
     "text": [
      "Training: kNN\n",
      "KNeighborsClassifier(algorithm='auto', leaf_size=30, metric='minkowski',\n",
      "           metric_params=None, n_jobs=1, n_neighbors=10, p=2,\n",
      "           weights='uniform')\n",
      "Accuracy: 0.72880720\n",
      "                         precision    recall  f1-score   support\n",
      "\n",
      "   DELETION OF INTEREST       0.74      0.35      0.47        72\n",
      "         RETURNED CHECK       0.84      0.81      0.82      5729\n",
      "                   BILL       0.42      0.06      0.10        88\n",
      "          POLICY CHANGE       0.48      0.83      0.61      2707\n",
      "    CANCELLATION NOTICE       0.83      0.64      0.72      2885\n",
      "            DECLARATION       0.89      0.82      0.86       260\n",
      "     CHANGE ENDORSEMENT       0.46      0.06      0.10       282\n",
      "     NON-RENEWAL NOTICE       0.89      0.86      0.88      1417\n",
      "                 BINDER       0.86      0.56      0.68       216\n",
      "   REINSTATEMENT NOTICE       0.77      0.29      0.43        78\n",
      "      EXPIRATION NOTICE       0.90      0.50      0.64       180\n",
      "INTENT TO CANCEL NOTICE       0.68      0.68      0.68      3191\n",
      "            APPLICATION       0.95      0.62      0.75      1318\n",
      "            BILL BINDER       0.96      0.51      0.67       239\n",
      "\n",
      "            avg / total       0.76      0.73      0.73     18662\n",
      "\n",
      "[[  25    1    0   35    0    0    0    0    0    0    0   10    0    1]\n",
      " [   0 4665    6  596  167    0    8    4    6    0    1  272    2    2]\n",
      " [   0   38    5   30    0    0    0    0    0    0    0   15    0    0]\n",
      " [   3  151    0 2251    5    2    5    6    0    1    0  283    0    0]\n",
      " [   0  310    0  431 1846    0    0  106    3    4    7  144   34    0]\n",
      " [   1    6    0   16    0  214    0    0    1    0    0   22    0    0]\n",
      " [   1   48    0  128    7    0   16   17    1    1    0   59    2    2]\n",
      " [   0   15    0   46  102    1    0 1224    0    0    0   28    1    0]\n",
      " [   0   43    0   35    4    0    0    2  121    0    0   10    1    0]\n",
      " [   0   10    0   10   25    0    0    1    0   23    1    8    0    0]\n",
      " [   0    9    0   42   20    0    0    1    0    0   90   18    0    0]\n",
      " [   4  201    1  733   18   23    6    9    7    0    1 2181    7    0]\n",
      " [   0   67    0  266   31    0    0    6    1    1    0  128  818    0]\n",
      " [   0   18    0   75    0    0    0    0    0    0    0   24    0  122]]\n"
     ]
    }
   ],
   "source": [
    "# KNN \n",
    "name = \"kNN\"\n",
    "model, acc, f1 = benchmark(KNeighborsClassifier(n_neighbors=10), name)\n",
    "# add_model(result, name, model, acc, f1)"
   ]
  },
  {
   "cell_type": "code",
   "execution_count": 24,
   "metadata": {},
   "outputs": [
    {
     "data": {
      "text/plain": [
       "{'Logistic Regression': {'accuracy': 0.85280248633586964,\n",
       "  'f1': 0.66120911770769764,\n",
       "  'model': LogisticRegression(C=1.0, class_weight=None, dual=False, fit_intercept=True,\n",
       "            intercept_scaling=1, max_iter=100, multi_class='ovr', n_jobs=1,\n",
       "            penalty='l2', random_state=None, solver='liblinear', tol=0.0001,\n",
       "            verbose=0, warm_start=False)},\n",
       " 'Ridge Classifier': {'accuracy': 0.87337905905047686,\n",
       "  'f1': 0.73661431176238257,\n",
       "  'model': RidgeClassifier(alpha=1.0, class_weight=None, copy_X=True, fit_intercept=True,\n",
       "          max_iter=None, normalize=False, random_state=None, solver='auto',\n",
       "          tol=0.001)},\n",
       " 'SVM classifier': {'accuracy': 0.87568320651591469,\n",
       "  'f1': 0.75454958827038499,\n",
       "  'model': LinearSVC(C=1.0, class_weight=None, dual=True, fit_intercept=True,\n",
       "       intercept_scaling=1, loss='squared_hinge', max_iter=1000,\n",
       "       multi_class='ovr', penalty='l2', random_state=None, tol=0.001,\n",
       "       verbose=0)}}"
      ]
     },
     "execution_count": 24,
     "metadata": {},
     "output_type": "execute_result"
    }
   ],
   "source": [
    "result"
   ]
  },
  {
   "cell_type": "code",
   "execution_count": 27,
   "metadata": {
    "collapsed": true
   },
   "outputs": [],
   "source": [
    "# Ensemble models\n",
    "def filter_cols(a, b, c):\n",
    "    \n",
    "    if c == b:\n",
    "        return c\n",
    "    elif c == a:\n",
    "        return c\n",
    "    elif b == a:\n",
    "        return b\n",
    "    else:\n",
    "        return c\n",
    "    \n",
    "def ensemble_models(result, x_test, y_test):\n",
    "    \n",
    "    y_pred = {}\n",
    "    \n",
    "    keys = list(result.keys())\n",
    "    \n",
    "    for name in keys:\n",
    "        \n",
    "        model = result[name]['model']\n",
    "        y_pred[name] = model.predict(x_test)\n",
    "        \n",
    "    y_pred_df = pd.DataFrame(y_pred)\n",
    "    y_pred_ens = y_pred_df.apply(lambda row: filter_cols(row[keys[0]], row[keys[1]], row[keys[2]]), axis=1)\n",
    "    y_pred_ens = np.array(y_pred_ens)\n",
    "    \n",
    "    print('Training: {0}'.format('Ensemble Method'))\n",
    "    \n",
    "#     accuracy\n",
    "    acc = accuracy_score(y_test, y_pred_ens)\n",
    "    print('Accuracy: %.08f'%acc)\n",
    "    \n",
    "    f1 = f1_score(y_test, y_pred_ens, average='macro')\n",
    "    print('F1: %.08f'%f1)\n",
    "    \n",
    "#     report  \n",
    "    print(classification_report(y_test, y_pred_ens, target_names=target_names))\n",
    "    \n",
    "#     confusion matrix\n",
    "    print(confusion_matrix(y_test, y_pred_ens))\n",
    "    \n",
    "    return y_pred_ens, acc, f1"
   ]
  },
  {
   "cell_type": "code",
   "execution_count": 28,
   "metadata": {
    "scrolled": false
   },
   "outputs": [
    {
     "name": "stdout",
     "output_type": "stream",
     "text": [
      "Training: Ensemble Method\n",
      "Accuracy: 0.87311113\n",
      "F1: 0.73770658\n",
      "                         precision    recall  f1-score   support\n",
      "\n",
      "   DELETION OF INTEREST       0.83      0.73      0.78        60\n",
      "         RETURNED CHECK       0.90      0.91      0.90      5717\n",
      "                   BILL       0.30      0.07      0.12        82\n",
      "          POLICY CHANGE       0.82      0.91      0.86      2652\n",
      "    CANCELLATION NOTICE       0.84      0.88      0.86      2948\n",
      "            DECLARATION       0.92      0.81      0.87       257\n",
      "     CHANGE ENDORSEMENT       0.60      0.15      0.24       282\n",
      "     NON-RENEWAL NOTICE       0.93      0.89      0.91      1433\n",
      "                 BINDER       0.88      0.71      0.79       237\n",
      "   REINSTATEMENT NOTICE       0.63      0.27      0.38        71\n",
      "      EXPIRATION NOTICE       0.94      0.84      0.89       202\n",
      "INTENT TO CANCEL NOTICE       0.85      0.85      0.85      3173\n",
      "            APPLICATION       0.95      0.95      0.95      1337\n",
      "            BILL BINDER       0.97      0.91      0.94       211\n",
      "\n",
      "            avg / total       0.87      0.87      0.87     18662\n",
      "\n",
      "[[  44    1    0   10    0    0    0    0    0    0    0    5    0    0]\n",
      " [   4 5195   10  118  227    1    8    0    7    5    0  133    9    0]\n",
      " [   0   56    6    9    0    0    0    0    0    0    0   11    0    0]\n",
      " [   2   65    2 2412    7    4   11    3    0    0    0  145    1    0]\n",
      " [   1  188    0   12 2582    0    1   65    1    3    3   46   45    1]\n",
      " [   0    1    0    3    3  209    0    0    1    0    0   40    0    0]\n",
      " [   2   31    0  134   13    0   43    9    1    1    0   46    2    0]\n",
      " [   0    0    0    5  138    1    1 1279    0    0    0    9    0    0]\n",
      " [   0   50    0    0    6    0    0    1  169    1    1    9    0    0]\n",
      " [   0   16    0    2   30    0    0    1    0   19    1    1    1    0]\n",
      " [   0    1    0    0   17    0    1    2    4    0  170    6    1    0]\n",
      " [   0  154    2  218   29   11    4   13    8    0    5 2711   14    4]\n",
      " [   0   11    0    3   29    0    3    3    1    1    0   21 1264    1]\n",
      " [   0    8    0    5    1    0    0    0    0    0    0    6    0  191]]\n"
     ]
    }
   ],
   "source": [
    "# Get all result\n",
    "y_pred, acc, f1 = ensemble_models(result, x_test, y_test)"
   ]
  },
  {
   "cell_type": "code",
   "execution_count": 29,
   "metadata": {
    "collapsed": true
   },
   "outputs": [],
   "source": [
    "# Handle special cases:\n",
    "# BILL, CHANGE ENDORSEMENT -misclassified as-> RETURNED CHECK, POLICY CHANGE"
   ]
  },
  {
   "cell_type": "code",
   "execution_count": 32,
   "metadata": {},
   "outputs": [
    {
     "name": "stderr",
     "output_type": "stream",
     "text": [
      "Using TensorFlow backend.\n"
     ]
    }
   ],
   "source": [
    "# use keras and lstm for classification\n",
    "from keras.preprocessing import sequence\n",
    "from keras.preprocessing import text\n",
    "from keras.models import Sequential\n",
    "from keras.layers import Dense, Dropout, Embedding, LSTM, Bidirectional\n",
    "from keras.datasets import imdb\n",
    "from keras.models import load_model\n",
    "from sklearn.preprocessing import LabelEncoder"
   ]
  },
  {
   "cell_type": "code",
   "execution_count": 38,
   "metadata": {
    "collapsed": true
   },
   "outputs": [],
   "source": [
    "from keras.utils.np_utils import to_categorical"
   ]
  },
  {
   "cell_type": "code",
   "execution_count": 39,
   "metadata": {
    "collapsed": true
   },
   "outputs": [],
   "source": [
    "targets = ['BILL', 'CHANGE ENDORSEMENT', 'RETURNED CHECK', 'POLICY CHANGE']"
   ]
  },
  {
   "cell_type": "code",
   "execution_count": 40,
   "metadata": {
    "collapsed": true
   },
   "outputs": [],
   "source": [
    "y_target_col = y.map(lambda x: x in targets)\n",
    "# Only consider 4 types\n",
    "x_target = x[y_target_col]\n",
    "y_target = y[y_target_col]"
   ]
  },
  {
   "cell_type": "code",
   "execution_count": 41,
   "metadata": {
    "scrolled": false
   },
   "outputs": [
    {
     "name": "stdout",
     "output_type": "stream",
     "text": [
      "Loading data...\n",
      "21863 train sequences\n",
      "9370 test sequences\n",
      "Tokenize data...\n",
      "Encoding categorical target...\n",
      "Pad sequences...\n",
      "Pad sequences (samples x time)\n",
      "x_train shape: (21863, 150)\n",
      "x_test shape: (9370, 150)\n",
      "Train...\n"
     ]
    },
    {
     "name": "stderr",
     "output_type": "stream",
     "text": [
      "/anaconda3/lib/python3.6/site-packages/tensorflow/python/ops/gradients_impl.py:97: UserWarning: Converting sparse IndexedSlices to a dense Tensor with 101885440 elements. This may consume a large amount of memory.\n",
      "  num_elements)\n"
     ]
    },
    {
     "name": "stdout",
     "output_type": "stream",
     "text": [
      "Train on 21863 samples, validate on 9370 samples\n",
      "Epoch 1/4\n",
      "21863/21863 [==============================] - 779s 36ms/step - loss: 0.3730 - acc: 0.8759 - val_loss: 0.2608 - val_acc: 0.9164\n",
      "Epoch 2/4\n",
      "21863/21863 [==============================] - 803s 37ms/step - loss: 0.2292 - acc: 0.9289 - val_loss: 0.2561 - val_acc: 0.9187\n",
      "Epoch 3/4\n",
      "21863/21863 [==============================] - 924s 42ms/step - loss: 0.1764 - acc: 0.9467 - val_loss: 0.2500 - val_acc: 0.9212\n",
      "Epoch 4/4\n",
      "21863/21863 [==============================] - 921s 42ms/step - loss: 0.1416 - acc: 0.9603 - val_loss: 0.2940 - val_acc: 0.9131\n"
     ]
    },
    {
     "data": {
      "text/plain": [
       "<keras.callbacks.History at 0x10aa62b00>"
      ]
     },
     "execution_count": 41,
     "metadata": {},
     "output_type": "execute_result"
    }
   ],
   "source": [
    "maxlen = 150\n",
    "batch_size = 32\n",
    "\n",
    "print('Loading data...')\n",
    "\n",
    "# Load data from x and y\n",
    "x_target_train, x_target_test, y_target_train, y_target_test = train_test_split(x_target, y_target, test_size=0.3)\n",
    "print(x_target_train.shape[0], 'train sequences')\n",
    "print(x_target_test.shape[0], 'test sequences')\n",
    "\n",
    "# Tokenizer\n",
    "print ('Tokenize data...')\n",
    "tokenizer = text.Tokenizer()\n",
    "tokenizer.fit_on_texts(x_target_train)\n",
    "x_target_train = tokenizer.texts_to_sequences(x_target_train)\n",
    "x_target_test = tokenizer.texts_to_sequences(x_target_test)\n",
    "\n",
    "# Encoding categorical target\n",
    "print ('Encoding categorical target...')\n",
    "lb_encoder = LabelEncoder()\n",
    "y_target_train = lb_encoder.fit_transform(y_target_train)\n",
    "y_target_test = lb_encoder.transform(y_target_test)\n",
    "\n",
    "# Pad sequences\n",
    "print ('Pad sequences...')\n",
    "max_features = 795980\n",
    "print('Pad sequences (samples x time)')\n",
    "x_target_train = sequence.pad_sequences(x_target_train, maxlen=maxlen)\n",
    "x_target_test = sequence.pad_sequences(x_target_test, maxlen=maxlen)\n",
    "print('x_train shape:', x_target_train.shape)\n",
    "print('x_test shape:', x_target_test.shape)\n",
    "y_target_train = np.array(y_target_train)\n",
    "y_target_test = np.array(y_target_test)\n",
    "\n",
    "# Change target into matrix\n",
    "y_target_train_cat = to_categorical(y_target_train)\n",
    "y_target_test_cat = to_categorical(y_target_test)\n",
    "\n",
    "model = Sequential()\n",
    "model.add(Embedding(max_features, 128, input_length=maxlen))\n",
    "model.add(Bidirectional(LSTM(100)))\n",
    "model.add(Dropout(0.7))\n",
    "model.add(Dense(4, activation='softmax'))\n",
    "\n",
    "# try using different optimizers and different optimizer configs\n",
    "model.compile(loss = 'categorical_crossentropy', optimizer = 'rmsprop',  metrics=['accuracy'])\n",
    "\n",
    "print('Train...')\n",
    "model.fit(x_target_train, \n",
    "          y_target_train_cat,\n",
    "          batch_size=batch_size,\n",
    "          epochs=4,\n",
    "          validation_data=[x_target_test, y_target_test_cat])"
   ]
  },
  {
   "cell_type": "markdown",
   "metadata": {
    "collapsed": true
   },
   "source": [
    "### Ensemble model + Keras LSTM model"
   ]
  },
  {
   "cell_type": "code",
   "execution_count": 34,
   "metadata": {},
   "outputs": [],
   "source": [
    "with open('vectorizer1.pkl', 'rb') as file:\n",
    "    vectorizer1 = pickle.load(file)\n",
    "# vectorizer1 = vectorizer\n",
    "\n",
    "with open('vectorizer2.pkl', 'rb') as file:\n",
    "    vectorizer2 = pickle.load(file)\n",
    "\n",
    "with open('label_encoder.pkl', 'rb') as file:\n",
    "    label_encoder = pickle.load(file)\n",
    "\n",
    "# with open('ensemble_model.pkl', 'rb') as file:\n",
    "#     ensemble_model = pickle.load(file)\n",
    "\n",
    "ensemble_model = {}\n",
    "for name in result.keys():\n",
    "    ensemble_model[name] = result[name]['model']\n",
    "\n",
    "# keras_model = load_model('keras_model.h5')\n",
    "\n",
    "candidates = ['RETURNED CHECK', 'POLICY CHANGE']\n",
    "targets = ['DELETION OF INTEREST', 'BILL',\n",
    "           'CANCELLATION NOTICE', 'DECLARATION', 'CHANGE ENDORSEMENT',\n",
    "           'NON-RENEWAL NOTICE', 'BINDER', 'REINSTATEMENT NOTICE',\n",
    "           'EXPIRATION NOTICE', 'INTENT TO CANCEL NOTICE', 'APPLICATION',\n",
    "           'BILL BINDER']"
   ]
  },
  {
   "cell_type": "code",
   "execution_count": 35,
   "metadata": {
    "scrolled": true
   },
   "outputs": [
    {
     "data": {
      "text/plain": [
       "{'Logistic Regression': LogisticRegression(C=1.0, class_weight=None, dual=False, fit_intercept=True,\n",
       "           intercept_scaling=1, max_iter=100, multi_class='ovr', n_jobs=1,\n",
       "           penalty='l2', random_state=None, solver='liblinear', tol=0.0001,\n",
       "           verbose=0, warm_start=False),\n",
       " 'Ridge Classifier': RidgeClassifier(alpha=1.0, class_weight=None, copy_X=True, fit_intercept=True,\n",
       "         max_iter=None, normalize=False, random_state=None, solver='auto',\n",
       "         tol=0.001),\n",
       " 'SVM classifier': LinearSVC(C=1.0, class_weight=None, dual=True, fit_intercept=True,\n",
       "      intercept_scaling=1, loss='squared_hinge', max_iter=1000,\n",
       "      multi_class='ovr', penalty='l2', random_state=None, tol=0.001,\n",
       "      verbose=0)}"
      ]
     },
     "execution_count": 35,
     "metadata": {},
     "output_type": "execute_result"
    }
   ],
   "source": [
    "ensemble_model"
   ]
  },
  {
   "cell_type": "code",
   "execution_count": 44,
   "metadata": {
    "collapsed": true
   },
   "outputs": [],
   "source": [
    "\"\"\"\"\n",
    "Get final result\n",
    "\n",
    "\"\"\"\n",
    "\n",
    "\n",
    "def get_result(words):\n",
    "    x = pd.Series(words)\n",
    "    x_train = vectorizer1.transform(x)\n",
    "    y = get_result_ensemble(x_train)\n",
    "    if y in candidates:\n",
    "        try:\n",
    "            y_lstm = get_result_lstm(words)\n",
    "            if y_lstm in targets:\n",
    "                y = y_lstm\n",
    "        except:\n",
    "            pass\n",
    "    return y\n",
    "\n",
    "\n",
    "\"\"\"\n",
    "Get ensemble methods result\n",
    "\"\"\"\n",
    "\n",
    "\n",
    "def get_result_ensemble(x):\n",
    "    a = ensemble_model['Logistic Regression']\n",
    "    b = ensemble_model['Ridge Classifier']\n",
    "    c = ensemble_model['SVM classifier']\n",
    "\n",
    "    a_res = a.predict(x).tolist()[0]\n",
    "    b_res = b.predict(x).tolist()[0]\n",
    "    c_res = c.predict(x).tolist()[0]\n",
    "\n",
    "    res = filter_cols(a_res, b_res, c_res)\n",
    "\n",
    "    return res\n",
    "\n",
    "\n",
    "\"\"\"\n",
    "Filter result from 3 models\n",
    "\"\"\"\n",
    "\n",
    "\n",
    "def filter_cols(a, b, c):\n",
    "    if c == b:\n",
    "        return c\n",
    "    elif c == a:\n",
    "        return c\n",
    "    elif b == a:\n",
    "        return b\n",
    "    else:\n",
    "        return c\n",
    "\n",
    "\n",
    "\"\"\"\n",
    "For specific 4 types using lstm\n",
    "\"\"\"\n",
    "\n",
    "\n",
    "def get_result_lstm(x):\n",
    "    x_train = vectorizer2.texts_to_sequences([x])\n",
    "    x_train = sequence.pad_sequences(x_train, maxlen=150)\n",
    "\n",
    "    x_train = np.array(x_train)\n",
    "    x_train = x_train.reshape((1, 150))\n",
    "    y_pred_prob = keras_model.predict(x_train)\n",
    "\n",
    "    index = np.argmax(y_pred_prob)\n",
    "    y_pred = label_encoder.inverse_transform(index)\n",
    "    return y_pred"
   ]
  },
  {
   "cell_type": "code",
   "execution_count": null,
   "metadata": {},
   "outputs": [],
   "source": [
    "y_test_pred = x_test_raw.map(lambda x: get_result(x))"
   ]
  },
  {
   "cell_type": "code",
   "execution_count": null,
   "metadata": {},
   "outputs": [],
   "source": [
    "acc = accuracy_score(y_test, y_test_pred)\n",
    "acc \n",
    "print ('Accuracy: %.08f'%acc)"
   ]
  },
  {
   "cell_type": "code",
   "execution_count": null,
   "metadata": {
    "collapsed": true
   },
   "outputs": [],
   "source": []
  },
  {
   "cell_type": "code",
   "execution_count": null,
   "metadata": {
    "collapsed": true
   },
   "outputs": [],
   "source": [
    "# Building a pipeline\n",
    "\n",
    "from sklearn.pipeline import Pipeline\n",
    "from sklearn.model_selection import GridSearchCV\n",
    "\n",
    "estimators = [(\"tfidf\", TfidfVectorizer()), (\"lr\", LogisticRegression())]\n",
    "model = Pipeline(estimators)\n",
    "\n",
    "\n",
    "# Grid search\n",
    "# http://scikit-learn.org/stable/modules/generated/sklearn.model_selection.GridSearchCV.html\n",
    "params = {\"lr__C\":[0.01, 0.1, 1, 10], #regularization param of logistic regression\n",
    "          \"tfidf__min_df\": [200, 300], #min count of words \n",
    "          \"tfidf__ngram_range\": [(1,1), (1,2)], #1-grams or 2-grams\n",
    "          }\n",
    "\n",
    "grid = GridSearchCV(estimator=model, param_grid=params, scoring=\"roc_auc\")  # use the default 3-fold cross validation\n",
    "grid.fit(raw_train.values.astype('U'), labels)\n",
    "print(\"The best paramenter set is : \\n\", grid.best_params_)"
   ]
  }
 ],
 "metadata": {
  "kernelspec": {
   "display_name": "Python 3",
   "language": "python",
   "name": "python3"
  },
  "language_info": {
   "codemirror_mode": {
    "name": "ipython",
    "version": 3
   },
   "file_extension": ".py",
   "mimetype": "text/x-python",
   "name": "python",
   "nbconvert_exporter": "python",
   "pygments_lexer": "ipython3",
   "version": "3.6.3"
  }
 },
 "nbformat": 4,
 "nbformat_minor": 2
}
